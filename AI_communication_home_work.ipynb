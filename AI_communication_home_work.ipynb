{
  "nbformat": 4,
  "nbformat_minor": 0,
  "metadata": {
    "colab": {
      "name": "AI_communication home_work ",
      "provenance": [],
      "authorship_tag": "ABX9TyNAbm3cV3o1AQinTcEQewry",
      "include_colab_link": true
    },
    "kernelspec": {
      "name": "python3",
      "display_name": "Python 3"
    },
    "accelerator": "GPU"
  },
  "cells": [
    {
      "cell_type": "markdown",
      "metadata": {
        "id": "view-in-github",
        "colab_type": "text"
      },
      "source": [
        "<a href=\"https://colab.research.google.com/github/33siwon/AI-networking/blob/main/AI_communication_home_work.ipynb\" target=\"_parent\"><img src=\"https://colab.research.google.com/assets/colab-badge.svg\" alt=\"Open In Colab\"/></a>"
      ]
    },
    {
      "cell_type": "markdown",
      "metadata": {
        "id": "24j9wO7S7wlI"
      },
      "source": [
        ""
      ]
    },
    {
      "cell_type": "markdown",
      "metadata": {
        "id": "vH7UoEtg7zfJ"
      },
      "source": [
        "20182197 전시원\n"
      ]
    },
    {
      "cell_type": "code",
      "metadata": {
        "colab": {
          "base_uri": "https://localhost:8080/"
        },
        "id": "2BbYz80Q737v",
        "outputId": "fa0068b2-b7a4-44c5-ae4a-88ac337fbc2a"
      },
      "source": [
        "from google.colab import drive \n",
        "\n",
        "drive.mount('/content/gdrive')"
      ],
      "execution_count": 1,
      "outputs": [
        {
          "output_type": "stream",
          "text": [
            "Mounted at /content/gdrive\n"
          ],
          "name": "stdout"
        }
      ]
    },
    {
      "cell_type": "code",
      "metadata": {
        "id": "RZ1OIlSq8Nas"
      },
      "source": [
        "import numpy as np\n",
        "import matplotlib.pyplot as plt\n",
        "import pandas as pd\n",
        "\n",
        "np.random.seed(0)\n",
        "filename='/content/gdrive/MyDrive/example/classification_data.csv'\n",
        "df = pd.read_csv(filename)   \n",
        "df"
      ],
      "execution_count": null,
      "outputs": []
    },
    {
      "cell_type": "code",
      "metadata": {
        "colab": {
          "base_uri": "https://localhost:8080/",
          "height": 576
        },
        "id": "-lKVBvVY8kde",
        "outputId": "f8eebc59-a3e4-40b6-8bee-718b5551ad60"
      },
      "source": [
        "data_total = df.values   # df.values 를 통해서 2D (17 X 3) tensor(행렬) 생성.\n",
        "\n",
        "\n",
        "\n",
        "num_of_inputs = 2 # \n",
        "\n",
        "data = data_total[:,:num_of_inputs] # 행은 모두 선택, 열은 2개만 선택\n",
        "label = data_total[:,num_of_inputs].reshape(-1,1) \n",
        "data\n",
        "# data is input \n",
        "# label is output\n",
        "\n",
        "df\n",
        "\n"
      ],
      "execution_count": 26,
      "outputs": [
        {
          "output_type": "execute_result",
          "data": {
            "text/html": [
              "<div>\n",
              "<style scoped>\n",
              "    .dataframe tbody tr th:only-of-type {\n",
              "        vertical-align: middle;\n",
              "    }\n",
              "\n",
              "    .dataframe tbody tr th {\n",
              "        vertical-align: top;\n",
              "    }\n",
              "\n",
              "    .dataframe thead th {\n",
              "        text-align: right;\n",
              "    }\n",
              "</style>\n",
              "<table border=\"1\" class=\"dataframe\">\n",
              "  <thead>\n",
              "    <tr style=\"text-align: right;\">\n",
              "      <th></th>\n",
              "      <th>X1</th>\n",
              "      <th>X2</th>\n",
              "      <th>Y</th>\n",
              "    </tr>\n",
              "  </thead>\n",
              "  <tbody>\n",
              "    <tr>\n",
              "      <th>0</th>\n",
              "      <td>8</td>\n",
              "      <td>-11</td>\n",
              "      <td>1</td>\n",
              "    </tr>\n",
              "    <tr>\n",
              "      <th>1</th>\n",
              "      <td>7</td>\n",
              "      <td>7</td>\n",
              "      <td>-1</td>\n",
              "    </tr>\n",
              "    <tr>\n",
              "      <th>2</th>\n",
              "      <td>12</td>\n",
              "      <td>-20</td>\n",
              "      <td>1</td>\n",
              "    </tr>\n",
              "    <tr>\n",
              "      <th>3</th>\n",
              "      <td>14</td>\n",
              "      <td>-3</td>\n",
              "      <td>-1</td>\n",
              "    </tr>\n",
              "    <tr>\n",
              "      <th>4</th>\n",
              "      <td>12</td>\n",
              "      <td>8</td>\n",
              "      <td>-1</td>\n",
              "    </tr>\n",
              "    <tr>\n",
              "      <th>5</th>\n",
              "      <td>1</td>\n",
              "      <td>-12</td>\n",
              "      <td>1</td>\n",
              "    </tr>\n",
              "    <tr>\n",
              "      <th>6</th>\n",
              "      <td>15</td>\n",
              "      <td>5</td>\n",
              "      <td>-1</td>\n",
              "    </tr>\n",
              "    <tr>\n",
              "      <th>7</th>\n",
              "      <td>7</td>\n",
              "      <td>-10</td>\n",
              "      <td>1</td>\n",
              "    </tr>\n",
              "    <tr>\n",
              "      <th>8</th>\n",
              "      <td>10</td>\n",
              "      <td>4</td>\n",
              "      <td>-1</td>\n",
              "    </tr>\n",
              "    <tr>\n",
              "      <th>9</th>\n",
              "      <td>6</td>\n",
              "      <td>2</td>\n",
              "      <td>1</td>\n",
              "    </tr>\n",
              "    <tr>\n",
              "      <th>10</th>\n",
              "      <td>8</td>\n",
              "      <td>12</td>\n",
              "      <td>-1</td>\n",
              "    </tr>\n",
              "    <tr>\n",
              "      <th>11</th>\n",
              "      <td>2</td>\n",
              "      <td>20</td>\n",
              "      <td>-1</td>\n",
              "    </tr>\n",
              "    <tr>\n",
              "      <th>12</th>\n",
              "      <td>1</td>\n",
              "      <td>-12</td>\n",
              "      <td>1</td>\n",
              "    </tr>\n",
              "    <tr>\n",
              "      <th>13</th>\n",
              "      <td>9</td>\n",
              "      <td>8</td>\n",
              "      <td>-1</td>\n",
              "    </tr>\n",
              "    <tr>\n",
              "      <th>14</th>\n",
              "      <td>3</td>\n",
              "      <td>3</td>\n",
              "      <td>1</td>\n",
              "    </tr>\n",
              "    <tr>\n",
              "      <th>15</th>\n",
              "      <td>5</td>\n",
              "      <td>6</td>\n",
              "      <td>1</td>\n",
              "    </tr>\n",
              "    <tr>\n",
              "      <th>16</th>\n",
              "      <td>1</td>\n",
              "      <td>11</td>\n",
              "      <td>1</td>\n",
              "    </tr>\n",
              "  </tbody>\n",
              "</table>\n",
              "</div>"
            ],
            "text/plain": [
              "    X1  X2  Y\n",
              "0    8 -11  1\n",
              "1    7   7 -1\n",
              "2   12 -20  1\n",
              "3   14  -3 -1\n",
              "4   12   8 -1\n",
              "5    1 -12  1\n",
              "6   15   5 -1\n",
              "7    7 -10  1\n",
              "8   10   4 -1\n",
              "9    6   2  1\n",
              "10   8  12 -1\n",
              "11   2  20 -1\n",
              "12   1 -12  1\n",
              "13   9   8 -1\n",
              "14   3   3  1\n",
              "15   5   6  1\n",
              "16   1  11  1"
            ]
          },
          "metadata": {
            "tags": []
          },
          "execution_count": 26
        }
      ]
    },
    {
      "cell_type": "code",
      "metadata": {
        "colab": {
          "base_uri": "https://localhost:8080/"
        },
        "id": "Hsg09ZstLNxU",
        "outputId": "e5a2594c-7e68-49b4-a51b-dfef95c3530a"
      },
      "source": [
        "def sign(data,W):\n",
        "  sum = data[0]*W[0] +data[1]*W[1]+ W[2]\n",
        "  return 1 if sum >= 0 else -1\n",
        "#Hypothesis \n",
        "W = np.random.rand(num_of_inputs+1).reshape(-1,1) \n",
        "print(W)"
      ],
      "execution_count": 28,
      "outputs": [
        {
          "output_type": "stream",
          "text": [
            "[[0.6976312 ]\n",
            " [0.06022547]\n",
            " [0.66676672]]\n"
          ],
          "name": "stdout"
        }
      ]
    },
    {
      "cell_type": "code",
      "metadata": {
        "id": "soP5QonDyMn0"
      },
      "source": [
        "def PLA_train(data):\n",
        "    W = np.random.rand(num_of_inputs+1).reshape(-1,1) \n",
        "    # 랜덤으로 초기값 W 를 정의.\n",
        "    while True:\n",
        "        isFinal = True\n",
        "        for i in range(len(data)):\n",
        "            predicted = sign(data[i], W)\n",
        "            if label[i] * predicted <= 0:\n",
        "                isFinal = False\n",
        "                W[0] = W[0] + label[i]*data[i,0] # 파라미터 업데이트\n",
        "                W[1] = W[1] + label[i]*data[i,1]\n",
        "                W[2] = W[2] + label[i]*1\n",
        "        if isFinal == True:\n",
        "                return W\n",
        "# PLA Algorithm\n"
      ],
      "execution_count": 6,
      "outputs": []
    },
    {
      "cell_type": "code",
      "metadata": {
        "colab": {
          "base_uri": "https://localhost:8080/"
        },
        "id": "VUKFXeCnyQtU",
        "outputId": "d7382b3a-f8bc-4987-f0c5-90e057d2a3be"
      },
      "source": [
        "W = PLA_train(data)\n",
        "print(f\" range(len) {range(len(data))}\")\n",
        "print(f\" data : {data[0,0]}\")\n",
        "print(W)"
      ],
      "execution_count": 29,
      "outputs": [
        {
          "output_type": "stream",
          "text": [
            " range(len) range(0, 17)\n",
            " data : 8\n",
            "[[-4.32936213]\n",
            " [-1.78961744]\n",
            " [35.1289263 ]]\n"
          ],
          "name": "stdout"
        }
      ]
    },
    {
      "cell_type": "code",
      "metadata": {
        "id": "7fmQI4Z3yUIo"
      },
      "source": [
        "data_red = np.empty([1,2])\n",
        "data_blue = np.empty([1,2])\n",
        "\n",
        "for i in range(len(data_total)):\n",
        "    if label[i] ==1:\n",
        "        data_red = np.vstack((data_red, data[i]))\n",
        "    else:\n",
        "        data_blue = np.vstack((data_blue, data[i]))\n",
        "\n",
        "data_red = data_red[1:len(data_red)]\n",
        "data_blue = data_blue[1:len(data_blue)]"
      ],
      "execution_count": 9,
      "outputs": []
    },
    {
      "cell_type": "code",
      "metadata": {
        "colab": {
          "base_uri": "https://localhost:8080/",
          "height": 374
        },
        "id": "_JqAXUJ1yW4I",
        "outputId": "ef61ef72-f991-48ab-ba31-05b6b538ef91"
      },
      "source": [
        "fig, ax = plt.subplots(figsize=(6,6))\n",
        "x= np.arange(-50,50)\n",
        "ax.plot(x,(-(W[2] / W[1]) / (W[2] / W[0]))*x + (-W[2] / W[1]), label='classification', c='purple')\n",
        "ax.scatter(data_red[:,0],data_red[:,1], c ='red', s=40, label = 'label : 1')\n",
        "ax.scatter(data_blue[:,0],data_blue[:,1], c ='blue', s=40, label = 'label : -1')\n",
        "legend = ax.legend(loc='best',fontsize=10,frameon=1,shadow=True, borderpad=1)\n",
        "ax.set_ylim(-25,22)\n",
        "ax.set_xlim(-5,20)\n",
        "ax.grid()"
      ],
      "execution_count": 10,
      "outputs": [
        {
          "output_type": "display_data",
          "data": {
            "image/png": "[encoded data removed]",
            "text/plain": [
              "<Figure size 432x432 with 1 Axes>"
            ]
          },
          "metadata": {
            "tags": [],
            "needs_background": "light"
          }
        }
      ]
    }
  ]
}